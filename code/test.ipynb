{
 "cells": [
  {
   "cell_type": "code",
   "execution_count": 1,
   "id": "09a717db",
   "metadata": {},
   "outputs": [],
   "source": [
    "import sys\n",
    "from ebdataset import EBdataset\n",
    "from alignment import *\n",
    "from alignment import align_response,get_doc,write_np\n",
    "from utils import *"
   ]
  },
  {
   "cell_type": "code",
   "execution_count": 2,
   "id": "5525f3c1",
   "metadata": {},
   "outputs": [],
   "source": [
    "tsk1_path='/home/cc/github/Adversarial_Matching/data/entailment_trees_emnlp2021_data_v3/dataset/task_1'\n",
    "tsk2_path='/home/cc/github/Adversarial_Matching/data/entailment_trees_emnlp2021_data_v3/dataset/task_2'\n",
    "tsk1=EBdataset(tsk1_path,tsk2_path)\n",
    "tsk1.get_neg(osp.join('../data/alignment','neg.npy'))\n",
    "tsk1.get_tsk1_table()"
   ]
  },
  {
   "cell_type": "code",
   "execution_count": 3,
   "id": "ce589f8d",
   "metadata": {},
   "outputs": [],
   "source": [
    "from similarity import *"
   ]
  },
  {
   "cell_type": "code",
   "execution_count": 4,
   "id": "1f212a4a",
   "metadata": {},
   "outputs": [],
   "source": [
    "# a=similarity(tsk1)"
   ]
  },
  {
   "cell_type": "code",
   "execution_count": 5,
   "id": "e7a3b4c4",
   "metadata": {},
   "outputs": [],
   "source": [
    "# savenp('../data/similarity','test.npy',a)"
   ]
  },
  {
   "cell_type": "code",
   "execution_count": 6,
   "id": "14ab77cf",
   "metadata": {},
   "outputs": [],
   "source": [
    "from relevance import *"
   ]
  },
  {
   "cell_type": "code",
   "execution_count": 7,
   "id": "57c6b4b7",
   "metadata": {},
   "outputs": [
    {
     "name": "stderr",
     "output_type": "stream",
     "text": [
      "usage: ipykernel_launcher.py [-h] [--sent_len SENT_LEN]\n",
      "                             [--batch_size BATCH_SIZE]\n",
      "                             [--model_path MODEL_PATH]\n",
      "ipykernel_launcher.py: error: unrecognized arguments: -f /home/cc/.local/share/jupyter/runtime/kernel-34345897-6822-41be-a472-06f040b3efbc.json\n"
     ]
    },
    {
     "ename": "SystemExit",
     "evalue": "2",
     "output_type": "error",
     "traceback": [
      "An exception has occurred, use %tb to see the full traceback.\n",
      "\u001b[0;31mSystemExit\u001b[0m\u001b[0;31m:\u001b[0m 2\n"
     ]
    },
    {
     "name": "stderr",
     "output_type": "stream",
     "text": [
      "/home/cc/anaconda3/envs/simclr_pytorch/lib/python3.6/site-packages/IPython/core/interactiveshell.py:3351: UserWarning: To exit: use 'exit', 'quit', or Ctrl-D.\n",
      "  warn(\"To exit: use 'exit', 'quit', or Ctrl-D.\", stacklevel=1)\n"
     ]
    }
   ],
   "source": [
    "b=relevance(tsk1)"
   ]
  },
  {
   "cell_type": "code",
   "execution_count": null,
   "id": "d1b3bcb2",
   "metadata": {},
   "outputs": [],
   "source": []
  }
 ],
 "metadata": {
  "kernelspec": {
   "display_name": "conda_simclr",
   "language": "python",
   "name": "simclr_pytorch"
  },
  "language_info": {
   "codemirror_mode": {
    "name": "ipython",
    "version": 3
   },
   "file_extension": ".py",
   "mimetype": "text/x-python",
   "name": "python",
   "nbconvert_exporter": "python",
   "pygments_lexer": "ipython3",
   "version": "3.6.12"
  }
 },
 "nbformat": 4,
 "nbformat_minor": 5
}
