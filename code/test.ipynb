{
 "cells": [
  {
   "cell_type": "code",
   "execution_count": 1,
   "id": "09a717db",
   "metadata": {},
   "outputs": [],
   "source": [
    "import sys\n",
    "from ebdataset import EBdataset\n",
    "from alignment import *\n",
    "from alignment import align_response,get_doc,write_np\n",
    "from utils import *"
   ]
  },
  {
   "cell_type": "code",
   "execution_count": 2,
   "id": "5525f3c1",
   "metadata": {},
   "outputs": [],
   "source": [
    "tsk1_path='/home/cc/github/Adversarial_Matching/data/entailment_trees_emnlp2021_data_v3/dataset/task_1'\n",
    "tsk2_path='/home/cc/github/Adversarial_Matching/data/entailment_trees_emnlp2021_data_v3/dataset/task_2'\n",
    "tsk1=EBdataset(tsk1_path,tsk2_path)\n",
    "tsk1.get_neg(osp.join('../data/alignment','neg.npy'))\n",
    "tsk1.get_tsk1_table()"
   ]
  },
  {
   "cell_type": "code",
   "execution_count": 3,
   "id": "ce589f8d",
   "metadata": {},
   "outputs": [],
   "source": [
    "from similarity import *"
   ]
  },
  {
   "cell_type": "code",
   "execution_count": 4,
   "id": "1f212a4a",
   "metadata": {},
   "outputs": [],
   "source": [
    "# a=similarity(tsk1)"
   ]
  },
  {
   "cell_type": "code",
   "execution_count": 5,
   "id": "e7a3b4c4",
   "metadata": {},
   "outputs": [],
   "source": [
    "# savenp('../data/similarity','test.npy',a)"
   ]
  },
  {
   "cell_type": "code",
   "execution_count": 6,
   "id": "14ab77cf",
   "metadata": {},
   "outputs": [],
   "source": [
    "from relevance import *"
   ]
  },
  {
   "cell_type": "code",
   "execution_count": 4,
   "id": "d1b3bcb2",
   "metadata": {},
   "outputs": [
    {
     "name": "stdout",
     "output_type": "stream",
     "text": [
      "-0.6931471805599453\n"
     ]
    }
   ],
   "source": [
    "import numpy as np\n",
    "print(np.log(0.5))"
   ]
  },
  {
   "cell_type": "code",
   "execution_count": 7,
   "id": "f5d25295",
   "metadata": {},
   "outputs": [],
   "source": [
    "import jsonlines\n",
    "with jsonlines.open('test.jsonl', 'a') as w:\n",
    "    w.write({'a':3,'b':[1,2,3]})"
   ]
  },
  {
   "cell_type": "code",
   "execution_count": null,
   "id": "1335b1a5",
   "metadata": {},
   "outputs": [],
   "source": []
  }
 ],
 "metadata": {
  "kernelspec": {
   "display_name": "conda_simclr",
   "language": "python",
   "name": "simclr_pytorch"
  },
  "language_info": {
   "codemirror_mode": {
    "name": "ipython",
    "version": 3
   },
   "file_extension": ".py",
   "mimetype": "text/x-python",
   "name": "python",
   "nbconvert_exporter": "python",
   "pygments_lexer": "ipython3",
   "version": "3.6.12"
  }
 },
 "nbformat": 4,
 "nbformat_minor": 5
}
