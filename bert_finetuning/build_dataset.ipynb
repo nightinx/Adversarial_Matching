{
 "cells": [
  {
   "cell_type": "code",
   "execution_count": 6,
   "id": "7b3eac86",
   "metadata": {},
   "outputs": [],
   "source": [
    "import jsonlines\n",
    "import re\n",
    "import numpy as np\n",
    "import torch\n",
    "from torch.utils.data import Dataset,DataLoader\n",
    "import random\n",
    "from transformers import BertTokenizer, BertModel"
   ]
  },
  {
   "cell_type": "code",
   "execution_count": 7,
   "id": "f259c8a3",
   "metadata": {},
   "outputs": [],
   "source": [
    "read_path1='entailment_trees_emnlp2021_data_v3/dataset/task_1/train.jsonl'\n",
    "read_path2='fullresult.jsonlines'"
   ]
  },
  {
   "cell_type": "code",
   "execution_count": 8,
   "id": "72432018",
   "metadata": {},
   "outputs": [],
   "source": [
    "def get_data(read_path1,read_path2):\n",
    "    dict_hypo_theoryset={}\n",
    "    \n",
    "    pattern = r'sent\\d+: '\n",
    "    with jsonlines.open(read_path1, \"r\") as rfd:\n",
    "        for data in rfd:\n",
    "            result = re.split(pattern, data['context'])\n",
    "            result_n = set([x.strip() for x in result if x.strip()!=''])\n",
    "            dict_hypo_theoryset[data['hypothesis']]=result_n\n",
    "    rfd.close()\n",
    "    \n",
    "    theory=[]\n",
    "    pos_hypo=[]\n",
    "    for hypo in dict_hypo_theoryset.keys():\n",
    "        para=\"\"\n",
    "        for sent in dict_hypo_theoryset[hypo]:\n",
    "            para+=sent+'. '\n",
    "        theory.append(para.strip())\n",
    "        pos_hypo.append(hypo)\n",
    "        \n",
    "    neg_hypo=[]\n",
    "    \n",
    "    with jsonlines.open(read_path2, \"r\") as rfd:\n",
    "        for data in rfd:\n",
    "            for key in data.keys():\n",
    "                neg_hypo.append(data[key].split('.'))\n",
    "    rfd.close()        \n",
    "    \n",
    "    def get_data(pos,neg,theory):\n",
    "        data={'theory':[],'neg':[],'pos':[]}\n",
    "        for i,t in enumerate(theory):\n",
    "            data['theory'].append(t)\n",
    "            data['neg'].append(neg[i])\n",
    "            data['pos'].append(pos[i])\n",
    "        return data\n",
    "    \n",
    "    data=get_data(pos_hypo,neg_hypo,theory)\n",
    "    return data"
   ]
  },
  {
   "cell_type": "code",
   "execution_count": 9,
   "id": "4fd288c9",
   "metadata": {},
   "outputs": [],
   "source": [
    "data=get_data(read_path1,read_path2)"
   ]
  },
  {
   "cell_type": "code",
   "execution_count": 14,
   "id": "83044e7c",
   "metadata": {},
   "outputs": [
    {
     "name": "stdout",
     "output_type": "stream",
     "text": [
      "the earth revolving around the sun causes leo to appear in different areas in the sky at different times of year\n"
     ]
    }
   ],
   "source": [
    "print(data['pos'][0])"
   ]
  },
  {
   "cell_type": "code",
   "execution_count": 19,
   "id": "66a44c5c",
   "metadata": {},
   "outputs": [
    {
     "name": "stdout",
     "output_type": "stream",
     "text": [
      " safety earth can be used for protecting the leo from chemical times\n",
      " safety times can be used to protect students ' areas from sky and bases\n",
      " a line earth can be used to show yearly water areas in the year\n",
      " the areas of various year in solid earth can be presented in a circle sky\n",
      " the earth in squirrels ' year over sky can be shown using a line leo through connected data times\n",
      " a line times an be used to show the sun of the areas of the leo over a earth of sky\n",
      " the sky of the plant earth in the deer year can be shown in a pie sun\n",
      " a leo can be used to protect the lemon areas by keeping them warm\n",
      " touching the year can be used to identify the sky by detecting its times\n",
      "\n"
     ]
    }
   ],
   "source": [
    "for i,sent in enumerate(data['neg'][0][-10:]):\n",
    "    print(sent)"
   ]
  },
  {
   "cell_type": "code",
   "execution_count": 22,
   "id": "ee022b97",
   "metadata": {},
   "outputs": [
    {
     "name": "stdout",
     "output_type": "stream",
     "text": [
      "['the food produced by farming will increase', 'advances in technology decreasing human jobs by more efficient machines has a negative impact on human', 'safety goggles can be used for protecting the eyes from chemical splashing', \"safety goggles can be used to protect students' eyes from acids and bases\", 'a line graph can be used to show yearly water usage in the usa', 'the percent of various materials in solid waste can be presented in a circle graph', \"the change in squirrels' population over time can be shown using a line graph through connected data points\", 'a line graph an be used to show the data of the growth of the vine over a period of time', 'the percentages of the plant types in the deer diet can be shown in a pie chart', 'a greenhouse can be used to protect the lemon trees by keeping them warm', 'touching the soil can be used to identify the soil by detecting its texture']\n"
     ]
    }
   ],
   "source": [
    "print(data['pos'][-11:])"
   ]
  },
  {
   "cell_type": "code",
   "execution_count": 17,
   "id": "4ed25056",
   "metadata": {},
   "outputs": [
    {
     "name": "stdout",
     "output_type": "stream",
     "text": [
      "the earth revolving around the sun causes stars to appear in different areas in the sky at different times of year. leo is a kind of constellation. a constellation contains stars.\n"
     ]
    }
   ],
   "source": [
    "print(data[\"theory\"][0])"
   ]
  },
  {
   "cell_type": "code",
   "execution_count": null,
   "id": "caad3201",
   "metadata": {},
   "outputs": [],
   "source": []
  }
 ],
 "metadata": {
  "kernelspec": {
   "display_name": "Python 3 (ipykernel)",
   "language": "python",
   "name": "python3"
  },
  "language_info": {
   "codemirror_mode": {
    "name": "ipython",
    "version": 3
   },
   "file_extension": ".py",
   "mimetype": "text/x-python",
   "name": "python",
   "nbconvert_exporter": "python",
   "pygments_lexer": "ipython3",
   "version": "3.9.7"
  }
 },
 "nbformat": 4,
 "nbformat_minor": 5
}
