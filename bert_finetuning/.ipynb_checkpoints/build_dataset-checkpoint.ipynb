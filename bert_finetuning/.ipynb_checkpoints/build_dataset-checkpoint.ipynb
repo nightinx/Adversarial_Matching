{
 "cells": [
  {
   "cell_type": "code",
   "execution_count": 6,
   "id": "7b3eac86",
   "metadata": {},
   "outputs": [],
   "source": [
    "import jsonlines\n",
    "import re\n",
    "import numpy as np\n",
    "import torch\n",
    "from torch.utils.data import Dataset,DataLoader\n",
    "import random\n",
    "from transformers import BertTokenizer, BertModel"
   ]
  },
  {
   "cell_type": "code",
   "execution_count": 7,
   "id": "f259c8a3",
   "metadata": {},
   "outputs": [],
   "source": [
    "read_path1='entailment_trees_emnlp2021_data_v3/dataset/task_1/train.jsonl'\n",
    "read_path2='fullresult.jsonlines'"
   ]
  },
  {
   "cell_type": "code",
   "execution_count": 8,
   "id": "72432018",
   "metadata": {},
   "outputs": [],
   "source": [
    "def get_data(read_path1,read_path2):\n",
    "    dict_hypo_theoryset={}\n",
    "    \n",
    "    pattern = r'sent\\d+: '\n",
    "    with jsonlines.open(read_path1, \"r\") as rfd:\n",
    "        for data in rfd:\n",
    "            result = re.split(pattern, data['context'])\n",
    "            result_n = set([x.strip() for x in result if x.strip()!=''])\n",
    "            dict_hypo_theoryset[data['hypothesis']]=result_n\n",
    "    rfd.close()\n",
    "    \n",
    "    theory=[]\n",
    "    pos_hypo=[]\n",
    "    for hypo in dict_hypo_theoryset.keys():\n",
    "        para=\"\"\n",
    "        for sent in dict_hypo_theoryset[hypo]:\n",
    "            para+=sent+'. '\n",
    "        theory.append(para.strip())\n",
    "        pos_hypo.append(hypo)\n",
    "        \n",
    "    neg_hypo=[]\n",
    "    \n",
    "    with jsonlines.open(read_path2, \"r\") as rfd:\n",
    "        for data in rfd:\n",
    "            for key in data.keys():\n",
    "                neg_hypo.append(data[key].split('.'))\n",
    "    rfd.close()        \n",
    "    \n",
    "    def get_data(pos,neg,theory):\n",
    "        data={'theory':[],'neg':[],'pos':[]}\n",
    "        for i,t in enumerate(theory):\n",
    "            data['theory'].append(t)\n",
    "            data['neg'].append(neg[i])\n",
    "            data['pos'].append(pos[i])\n",
    "        return data\n",
    "    \n",
    "    data=get_data(pos_hypo,neg_hypo,theory)\n",
    "    return data"
   ]
  },
  {
   "cell_type": "code",
   "execution_count": 9,
   "id": "ca4a6541",
   "metadata": {},
   "outputs": [],
   "source": [
    "data=get_data(read_path1,read_path2)"
   ]
  },
  {
   "cell_type": "code",
   "execution_count": 10,
   "id": "ca7a2a5a",
   "metadata": {},
   "outputs": [
    {
     "ename": "KeyError",
     "evalue": "0",
     "output_type": "error",
     "traceback": [
      "\u001b[1;31m---------------------------------------------------------------------------\u001b[0m",
      "\u001b[1;31mKeyError\u001b[0m                                  Traceback (most recent call last)",
      "\u001b[1;32m~\\AppData\\Local\\Temp/ipykernel_65736/1743741225.py\u001b[0m in \u001b[0;36m<module>\u001b[1;34m\u001b[0m\n\u001b[1;32m----> 1\u001b[1;33m \u001b[0mdata\u001b[0m\u001b[1;33m[\u001b[0m\u001b[1;36m0\u001b[0m\u001b[1;33m]\u001b[0m\u001b[1;33m\u001b[0m\u001b[1;33m\u001b[0m\u001b[0m\n\u001b[0m",
      "\u001b[1;31mKeyError\u001b[0m: 0"
     ]
    }
   ],
   "source": [
    "print(data[\"theory\"][0])\n",
    "print(data['neg'][0])\n",
    "print(data['pos'][0])"
   ]
  },
  {
   "cell_type": "code",
   "execution_count": null,
   "id": "75600982",
   "metadata": {},
   "outputs": [],
   "source": []
  }
 ],
 "metadata": {
  "kernelspec": {
   "display_name": "Python 3 (ipykernel)",
   "language": "python",
   "name": "python3"
  },
  "language_info": {
   "codemirror_mode": {
    "name": "ipython",
    "version": 3
   },
   "file_extension": ".py",
   "mimetype": "text/x-python",
   "name": "python",
   "nbconvert_exporter": "python",
   "pygments_lexer": "ipython3",
   "version": "3.9.7"
  }
 },
 "nbformat": 4,
 "nbformat_minor": 5
}
