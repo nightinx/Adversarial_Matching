{
 "cells": [
  {
   "cell_type": "code",
   "execution_count": 35,
   "id": "ca56c93c",
   "metadata": {},
   "outputs": [],
   "source": [
    "read_path='entailment_trees_emnlp2021_data_v3/dataset/task_1/train.jsonl'\n",
    "def build_hypo_dictionary(read_path):\n",
    "    import jsonlines\n",
    "    import re\n",
    "    dict_hypo_theoryset={}\n",
    "    pattern = r'sent\\d+: '\n",
    "    with jsonlines.open(read_path, \"r\") as rfd:\n",
    "        for data in rfd:\n",
    "            result = re.split(pattern, data['context'])\n",
    "            result_n = set([x.strip() for x in result if x.strip()!=''])\n",
    "            dict_hypo_theoryset[data['hypothesis']]=result_n\n",
    "    rfd.close()\n",
    "    \n",
    "    dict_hypo_theorypara={}\n",
    "    for i,hypothesis1 in enumerate(dict_hypo_theoryset.keys()):\n",
    "        para=\"\"\n",
    "        for sent in dict_hypo_theoryset[hypothesis1]:\n",
    "            para+=sent+'. '\n",
    "        dict_hypo_theorypara[hypothesis1]=para\n",
    "    return dict_hypo_theoryset,dict_hypo_theorypara"
   ]
  },
  {
   "cell_type": "code",
   "execution_count": 36,
   "id": "8ef03756",
   "metadata": {},
   "outputs": [],
   "source": [
    "dict_set,dict_para=build_hypo_dictionary(read_path)"
   ]
  },
  {
   "cell_type": "code",
   "execution_count": 79,
   "id": "d661ac99",
   "metadata": {},
   "outputs": [],
   "source": [
    "hypo_list=[]\n",
    "theory_list=[]\n",
    "for i,hypothesis1 in enumerate(dict_para.keys()):\n",
    "    hypo_list.append(hypothesis1)\n",
    "    theory_list.append(dict_para[hypothesis1])"
   ]
  },
  {
   "cell_type": "code",
   "execution_count": 146,
   "id": "78ada234",
   "metadata": {},
   "outputs": [],
   "source": [
    "import spacy\n",
    "spacy.prefer_gpu()\n",
    "nlp = spacy.load(\"en_core_web_sm\")"
   ]
  },
  {
   "cell_type": "code",
   "execution_count": 164,
   "id": "33fa3a15",
   "metadata": {},
   "outputs": [],
   "source": [
    "def align_response(hypo1,theory1,hypo2,nlp,theory2=None):\n",
    "    import random\n",
    "    doc = nlp(hypo1+theory1)\n",
    "    noun_set1=set()\n",
    "    noun_dic1={}\n",
    "    for token in doc:\n",
    "        if token.pos_ in ['PRON','PROPN','NOUN']:\n",
    "            noun_set1.add(token.text)\n",
    "            if token.dep_ in noun_dic1.keys():\n",
    "                noun_dic1[token.dep_].add(token.text)\n",
    "            else:\n",
    "                noun_dic1[token.dep_]=set([token.text])\n",
    "    \n",
    "    doc = nlp(hypo2)\n",
    "    noun_set2=set()\n",
    "    for token in doc:\n",
    "        if token.pos_ in ['PRON','PROPN','NOUN']:\n",
    "            noun_set2.add(token.text)\n",
    "   \n",
    "    hold_out=noun_set1-noun_set2\n",
    "    #print(noun_set1,noun_set2,hold_out)  \n",
    "    \n",
    "    attackhypo=\"\"\n",
    "    for token in doc:\n",
    "        attackhypo+=\" \"\n",
    "        chosen=token.text\n",
    "        if token.pos_ in ['PRON','PROPN','NOUN']:\n",
    "            if token.text not in noun_set1:\n",
    "                if token.dep_ in noun_dic1.keys():\n",
    "                    chosen=random.choice(list(noun_dic1[token.dep_]))\n",
    "                else:\n",
    "                    chosen=random.choice(list(noun_set1))\n",
    "                if chosen not in hold_out and len(hold_out)>0:\n",
    "                    chosen=random.choice(list(hold_out))\n",
    "                hold_out.discard(chosen)\n",
    "        attackhypo+=chosen\n",
    "    return attackhypo\n",
    "        \n",
    "    "
   ]
  },
  {
   "cell_type": "code",
   "execution_count": 165,
   "id": "abeb8e73",
   "metadata": {},
   "outputs": [],
   "source": [
    "adversay_dict={}\n",
    "for i,hypo1 in enumerate(hypo_list):\n",
    "    adversay_dict[hypo1]=[]\n",
    "    if i>10:\n",
    "        break\n",
    "    for j,hypo2 in enumerate(hypo_list):\n",
    "        if j>10:break\n",
    "        if i==j:\n",
    "            continue\n",
    "        attackhypo=align_response(hypo1,theory_list[i],hypo2,nlp)\n",
    "        adversay_dict[hypo1].append(attackhypo)"
   ]
  },
  {
   "cell_type": "code",
   "execution_count": 166,
   "id": "6d9abc42",
   "metadata": {},
   "outputs": [
    {
     "name": "stdout",
     "output_type": "stream",
     "text": [
      "the earth revolving around the sun causes leo to appear in different areas in the sky at different times of year\n",
      "[' the earth rotating on areas constellation causes stars to move relative to the sky during the yearleo', ' the earth rotating on times kind causes stars to appear to move relative to the sky during the leo', ' the sun will be the kind stars appears the brightest to the earth', ' the sun is brighter than other stars because the sun is closer to earth than other stars', ' venus reflecting more stars than other yearleo make earth brighter than other sky', ' times year stars has the greatest sky during constellation', \" earth 's constellation on yearleo rotating sky causes the stars of sun to change\", ' the northern year being tilted away from the sun causes stars to receive less direct leo', ' earth rotating on kind yearleo causes stars of year and leo on earth', ' a complete kind of the earth takes 24 stars']\n",
      "\n",
      "the earth rotating on its axis causes stars to move relative to the horizon during the night\n",
      "[' the earth revolving around the position causes nighta to appear in different star in the sky at different axis of stars', ' the earth rotating on its axis causes stars to appear to move relative to the horizon during the night', ' the object will be the star horizon appears the brightest to the earth', ' the object is brighter than other stars because the nighta is closer to earth than other stars', ' venus reflecting more stars than other body make earth brighter than other motion', ' nighta night stars has the greatest axis during position', \" earth 's stars on its rotating axis causes the sky of body to change\", ' the northern kind being tilted away from the star causes stars to receive less direct body', ' earth rotating on its axis causes position of star and night on earth', ' a complete object of the earth takes 24 nighta']\n",
      "\n",
      "the earth rotating on its axis causes stars to appear to move relative to the horizon during the night\n",
      "[' the earth revolving around the axis causes rotation to appear in different night in the sky at different nightstars of motion', ' the earth rotating on its axis causes stars to move relative to the horizon during the night', ' the stars will be the its objects appears the brightest to the earth', ' the its is brighter than other stars because the motion is closer to earth than other stars', ' venus reflecting more rotation than other motion make earth brighter than other nightstars', ' sky its stars has the greatest moon during horizon', \" earth 's motion on its rotating axis causes the stars of nightstars to change\", ' the northern earth being tilted away from the nightstars causes rotation to receive less direct objects', ' earth rotating on its axis causes sky of horizon and night on earth', ' a complete rotation of the earth takes 24 nightstars']\n",
      "\n",
      "the sun will be the star that appears the brightest to the earth\n",
      "[' the earth revolving around the sun causes source to appear in different something in the star at different light of that', ' the earth rotating on light something causes source to move relative to the sun during the star', ' the earth rotating on something source causes light to appear to move relative to the sun during the that', ' the sun is brighter than other that because the sun is closer to earth than other something', ' venus reflecting more something than other source make that brighter than other earth', ' sun star source has the greatest something during earth', \" earth 's sun on something rotating light causes the star of source to change\", ' the northern light being tilted away from the sun causes that to receive less direct something', ' earth rotating on sun light causes something of source and star on earth', ' a complete light of the earth takes 24 something']\n",
      "\n",
      "the sun is brighter than other stars because the sun is closer to earth than other stars\n",
      "[' the earth revolving around the sun causes something to appear in different stars in the sky at different light of night', ' the earth rotating on something starsas causes stars to move relative to the light during the night', ' the earth rotating on sky light causes stars to appear to move relative to the something during the night', ' the sun will be the star that appears the brightest to the earth', ' venus reflecting more something than other night make sun brighter than other starsas', ' night starsas stars has the greatest something during source', \" earth 's sun on light rotating stars causes the that of night to change\", ' the northern that being tilted away from the sun causes light to receive less direct something', ' earth rotating on sun star causes something of stars and night on earth', ' a complete source of the earth takes 24 something']\n",
      "\n",
      "venus reflecting more sunlight than other planets make it brighter than other planets\n",
      "[' the light revolving around the things causes object to appear in different planetsas in the planets at different increases of it', ' the it rotating on light things causes object to move relative to the clouds during the planets', ' the object rotating on increases clouds causes light to appear to move relative to the planetsas during the planets', ' the it will be the venus object appears the brightest to the increases', ' the it is brighter than other planets because the light is closer to things than other planetsas', ' object increases things has the greatest sunlight during planetsas', \" planetsas 's light on object rotating increases causes the sunlight of things to change\", ' the northern light being tilted away from the clouds causes things to receive less direct sunlight', ' light rotating on increases it causes sunlight of planetsas and object on things', ' a complete it of the planetsas takes 24 sunlight']\n",
      "\n",
      "new york state has the greatest sunlight during june\n",
      "[' the june revolving around the america causes york to appear in different hemisphere in the daylight at different states of summer', ' the state rotating on new america causes june to move relative to the summer during the hemisphere', ' the state rotating on hemisphere daylight causes amount to appear to move relative to the states during the united', ' the state will be the daylight june appears the brightest to the hemisphere', ' the state is brighter than other america because the new is closer to summer than other hemisphere', ' venus reflecting more sunlight than other summer make june brighter than other america', \" amount 's state on june rotating america causes the hemisphere of daylight to change\", ' the northern hemisphere being tilted away from the daylight causes amount to receive less direct sunlight', ' state rotating on amount summer causes america of daylight and sunlight on united', ' a complete june of the summer takes 24 hemisphere']\n",
      "\n",
      "earth's tilt on its rotating axis causes the amout of daylight to change\n",
      "[' the earth revolving around the daylight causes axis to appear in different amount in the its at different tilt of season', ' the earth rotating on its axis causes tilt to move relative to the amout during the daylight', ' the earth rotating on its axis causes tilt to appear to move relative to the daylight during the seasons', ' the tilt will be the daylight amout appears the brightest to the earth', ' the season is brighter than other daylight because the tilt is closer to earth than other axis', ' venus reflecting more tilt than other axis make season brighter than other its', ' tilt amount amout has the greatest earth during daylight', ' the northern its being tilted away from the axis causes tilt to receive less direct seasons', ' earth rotating on its axis causes tilt of season and amout on earth', ' a complete amout of the earth takes 24 seasons']\n",
      "\n",
      "the northern hemisphere being tilted away from the sun causes alaska to receive less direct sunlight\n",
      "[' the alaska revolving around the sun causes states to appear in different that in the united at different winter of state', ' the alaska rotating on season america causes hemisphere to move relative to the winter during the sun', ' the hemisphere rotating on winter sun causes sunlight to appear to move relative to the america during the state', ' the sun will be the state that appears the brightest to the season', ' the sun is brighter than other america because the sun is closer to hemisphere than other sunlight', ' venus reflecting more sunlight than other america make hemisphere brighter than other season', ' winter alaska state has the greatest sunlight during season', \" sunlightwinter 's hemisphere on united rotating states causes the that of america to change\", ' hemisphere rotating on alaska sun causes sunlightwinter of america and states on season', ' a complete alaska of the sun takes 24 sunlightwinter']\n",
      "\n",
      "earth rotating on its axis causes cycles of day and night on earth\n",
      "[' the earth revolving around the planet causes night to appear in different earthearth in the day at different its of rotating', ' the earth rotating on its axis causes rotating to move relative to the earthearth during the night', ' the earth rotating on its axis causes planet to appear to move relative to the kind during the night', ' the cycles will be the kind rotating appears the brightest to the earth', ' the its is brighter than other axis because the rotating is closer to earth than other earthearth', ' venus reflecting more cycles than other planet make rotating brighter than other axis', ' planet earthearth earth has the greatest cycles during day', \" earth 's rotating on its rotating axis causes the earthearth of day to change\", ' the northern axis being tilted away from the earthearth causes rotating to receive less direct cycles', ' a complete rotating of the earth takes 24 cycles']\n",
      "\n",
      "a complete rotation of the earth takes 24 hours\n",
      "[' the earth revolving around the hours causes rotation to appear in different day in the axis at different itself of hours1', ' the earth rotating on day axis causes hours1 to move relative to the hours during the rotation', ' the earth rotating on day axis causes rotation to appear to move relative to the hours during the hours1', ' the rotation will be the axis day appears the brightest to the earth', ' the day is brighter than other hours1 because the rotation is closer to earth than other hours', ' venus reflecting more rotation than other hours make axis brighter than other day', ' hours1 earth rotation has the greatest axis during day', \" earth 's day on hours1 rotating axis causes the rotation of hours to change\", ' the northern axis being tilted away from the earth causes day to receive less direct hours', ' earth rotating on hours1 axis causes itself of day and rotation on earth']\n",
      "\n",
      "when the season changes, the amount of daylight in new york state will change\n",
      "[]\n",
      "\n"
     ]
    }
   ],
   "source": [
    "for hypo,attack_list in adversay_dict.items():\n",
    "    print(hypo)\n",
    "    print(attack_list[:10])\n",
    "    print()"
   ]
  },
  {
   "cell_type": "code",
   "execution_count": null,
   "id": "ed61eeb1",
   "metadata": {},
   "outputs": [],
   "source": []
  }
 ],
 "metadata": {
  "kernelspec": {
   "display_name": "Python 3 (ipykernel)",
   "language": "python",
   "name": "python3"
  },
  "language_info": {
   "codemirror_mode": {
    "name": "ipython",
    "version": 3
   },
   "file_extension": ".py",
   "mimetype": "text/x-python",
   "name": "python",
   "nbconvert_exporter": "python",
   "pygments_lexer": "ipython3",
   "version": "3.9.7"
  }
 },
 "nbformat": 4,
 "nbformat_minor": 5
}
